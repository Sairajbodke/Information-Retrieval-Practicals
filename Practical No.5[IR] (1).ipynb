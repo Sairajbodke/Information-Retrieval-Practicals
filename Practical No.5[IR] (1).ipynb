{
 "cells": [
  {
   "cell_type": "code",
   "execution_count": null,
   "id": "5432331d-9546-4ccd-99a5-6dde41d7be44",
   "metadata": {},
   "outputs": [],
   "source": [
    "Name - Bodke Sairaj Nivrutti.\n",
    "Class - BE Artificial Intelligence and Data Science.\n",
    "Roll No - 09\n",
    "Title -  Implement Page Rank Algorithm. (Use python for implementation)."
   ]
  },
  {
   "cell_type": "code",
   "execution_count": 1,
   "id": "df775d6d-4698-4e04-adcc-43df534a5686",
   "metadata": {},
   "outputs": [
    {
     "name": "stdout",
     "output_type": "stream",
     "text": [
      "PageRank values:\n",
      "Page 0: 0.2839\n",
      "Page 1: 0.1534\n",
      "Page 2: 0.4092\n",
      "Page 3: 0.1534\n"
     ]
    }
   ],
   "source": [
    "import numpy as np\n",
    "\n",
    "def page_rank(adjacency_matrix, damping_factor=0.85, tolerance=1.0e-6):\n",
    "    \"\"\"\n",
    "    Computes the PageRank of a web graph represented by an adjacency matrix.\n",
    "    \n",
    "    Parameters:\n",
    "        adjacency_matrix (np.ndarray): The adjacency matrix of the web graph.\n",
    "        damping_factor (float): The damping factor (usually set to 0.85).\n",
    "        tolerance (float): The tolerance for convergence.\n",
    "    \n",
    "    Returns:\n",
    "        np.ndarray: The PageRank values for each page.\n",
    "    \"\"\"\n",
    "    N = adjacency_matrix.shape[0]\n",
    "    \n",
    "    # Create the link matrix\n",
    "    link_matrix = np.array(adjacency_matrix, dtype=float)\n",
    "    link_matrix = link_matrix / link_matrix.sum(axis=0, keepdims=True)\n",
    "    \n",
    "    # Initialize PageRank vector\n",
    "    page_rank = np.ones(N) / N\n",
    "    \n",
    "    # Create the stochastic matrix\n",
    "    S = damping_factor * link_matrix + (1 - damping_factor) / N * np.ones((N, N))\n",
    "    \n",
    "    # Iterate until convergence\n",
    "    while True:\n",
    "        new_page_rank = S @ page_rank\n",
    "        if np.linalg.norm(new_page_rank - page_rank, ord=1) < tolerance:\n",
    "            return new_page_rank\n",
    "        page_rank = new_page_rank\n",
    "\n",
    "# Example adjacency matrix for 4 pages\n",
    "adjacency_matrix = np.array([\n",
    "    [0, 1, 1, 0],\n",
    "    [0, 0, 1, 0],\n",
    "    [1, 0, 0, 1],\n",
    "    [0, 0, 1, 0]\n",
    "])\n",
    "\n",
    "# Compute PageRank\n",
    "page_rank_values = page_rank(adjacency_matrix)\n",
    "\n",
    "# Print the PageRank values\n",
    "print(\"PageRank values:\")\n",
    "for i, rank in enumerate(page_rank_values):\n",
    "    print(f\"Page {i}: {rank:.4f}\")\n"
   ]
  },
  {
   "cell_type": "code",
   "execution_count": null,
   "id": "c250ed79-1dc3-4e7d-8987-2fbdaba83a5a",
   "metadata": {},
   "outputs": [],
   "source": []
  }
 ],
 "metadata": {
  "kernelspec": {
   "display_name": "Python 3 (ipykernel)",
   "language": "python",
   "name": "python3"
  },
  "language_info": {
   "codemirror_mode": {
    "name": "ipython",
    "version": 3
   },
   "file_extension": ".py",
   "mimetype": "text/x-python",
   "name": "python",
   "nbconvert_exporter": "python",
   "pygments_lexer": "ipython3",
   "version": "3.10.9"
  }
 },
 "nbformat": 4,
 "nbformat_minor": 5
}
